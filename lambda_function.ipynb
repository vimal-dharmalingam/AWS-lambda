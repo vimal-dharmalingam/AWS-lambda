{
 "cells": [
  {
   "cell_type": "code",
   "execution_count": 1,
   "id": "3ac541ee",
   "metadata": {},
   "outputs": [],
   "source": [
    "import json\n",
    "\n",
    "def lambda_handler (event,context):\n",
    "    \n",
    "    input_data = [1,2,3,4,5]\n",
    "    \n",
    "    output = [each_val * 10 for each_val in input_data]\n",
    "\n",
    "    output =sum(output)\n",
    "    \n",
    "    return {\n",
    "        'statusCode': 200,\n",
    "        'body': ' Lambda function Succesfully running',\n",
    "        'result' : output\n",
    "    }"
   ]
  },
  {
   "cell_type": "code",
   "execution_count": 2,
   "id": "2de2a5a2",
   "metadata": {},
   "outputs": [
    {
     "data": {
      "text/plain": [
       "{'statusCode': 200,\n",
       " 'body': ' Lambda function Succesfully running',\n",
       " 'result': 150}"
      ]
     },
     "execution_count": 2,
     "metadata": {},
     "output_type": "execute_result"
    }
   ],
   "source": [
    "#lambda_handler (1,2)"
   ]
  },
  {
   "cell_type": "code",
   "execution_count": 3,
   "id": "e3adfbe8",
   "metadata": {},
   "outputs": [],
   "source": [
    "## zip the lambda_function.py file and upload to lambda"
   ]
  }
 ],
 "metadata": {
  "kernelspec": {
   "display_name": "Python 3 (ipykernel)",
   "language": "python",
   "name": "python3"
  },
  "language_info": {
   "codemirror_mode": {
    "name": "ipython",
    "version": 3
   },
   "file_extension": ".py",
   "mimetype": "text/x-python",
   "name": "python",
   "nbconvert_exporter": "python",
   "pygments_lexer": "ipython3",
   "version": "3.9.12"
  }
 },
 "nbformat": 4,
 "nbformat_minor": 5
}
