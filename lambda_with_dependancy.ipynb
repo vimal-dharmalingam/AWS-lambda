{
 "cells": [
  {
   "cell_type": "code",
   "execution_count": 4,
   "id": "3ac541ee",
   "metadata": {},
   "outputs": [],
   "source": [
    "import requests\n",
    "\n",
    "import json\n",
    "\n",
    "def lambda_handler (event,context):\n",
    "    \n",
    "    input_data = [1,2,3,4,5]\n",
    "    \n",
    "    output = [each_val * 10 for each_val in input_data]\n",
    "\n",
    "    output =sum(output)\n",
    "    \n",
    "    return {\n",
    "        'statusCode': 200,\n",
    "        'body': ' Lambda function Succesfully running',\n",
    "        'result' : output\n",
    "    }"
   ]
  },
  {
   "cell_type": "code",
   "execution_count": 5,
   "id": "2de2a5a2",
   "metadata": {
    "collapsed": true
   },
   "outputs": [
    {
     "data": {
      "text/plain": [
       "{'statusCode': 200,\n",
       " 'body': ' Lambda function Succesfully running',\n",
       " 'result': 150}"
      ]
     },
     "execution_count": 5,
     "metadata": {},
     "output_type": "execute_result"
    }
   ],
   "source": [
    "lambda_handler (1,2)"
   ]
  },
  {
   "cell_type": "markdown",
   "id": "34f530d1",
   "metadata": {},
   "source": [
    "## Google the PYPI website download the below files"
   ]
  },
  {
   "cell_type": "markdown",
   "id": "9b38250f",
   "metadata": {},
   "source": [
    "## Required packages"
   ]
  },
  {
   "cell_type": "code",
   "execution_count": 6,
   "id": "41cafee6",
   "metadata": {},
   "outputs": [],
   "source": [
    "requests = \"requests-2.30.0-py3-none-any.whl\""
   ]
  },
  {
   "cell_type": "markdown",
   "id": "75b7241d",
   "metadata": {},
   "source": [
    "##  Python script to unzip a file"
   ]
  },
  {
   "cell_type": "code",
   "execution_count": 9,
   "id": "4c275516",
   "metadata": {},
   "outputs": [],
   "source": [
    "import zipfile\n",
    "with zipfile.ZipFile(requests) as f:\n",
    "    f.extractall()"
   ]
  },
  {
   "cell_type": "markdown",
   "id": "ec2238f7",
   "metadata": {},
   "source": [
    "## create the folder structure in the below format"
   ]
  },
  {
   "cell_type": "code",
   "execution_count": null,
   "id": "8ce9ebd4",
   "metadata": {},
   "outputs": [],
   "source": [
    "-----deploy.zip\n",
    "       --request packages\n",
    "       --lambda function.py"
   ]
  },
  {
   "cell_type": "code",
   "execution_count": null,
   "id": "e00e1b29",
   "metadata": {},
   "outputs": [],
   "source": [
    "## upload the deploy.zip file into lambda function"
   ]
  }
 ],
 "metadata": {
  "kernelspec": {
   "display_name": "Python 3 (ipykernel)",
   "language": "python",
   "name": "python3"
  },
  "language_info": {
   "codemirror_mode": {
    "name": "ipython",
    "version": 3
   },
   "file_extension": ".py",
   "mimetype": "text/x-python",
   "name": "python",
   "nbconvert_exporter": "python",
   "pygments_lexer": "ipython3",
   "version": "3.9.12"
  }
 },
 "nbformat": 4,
 "nbformat_minor": 5
}
