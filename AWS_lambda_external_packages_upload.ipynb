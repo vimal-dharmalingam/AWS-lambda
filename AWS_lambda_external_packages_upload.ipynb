{
 "cells": [
  {
   "cell_type": "markdown",
   "id": "81bc9ad9",
   "metadata": {},
   "source": [
    "## Run the code in console\n",
    "#### ### Will get the error  -------------no modules named pandas, numpy or any other packages"
   ]
  },
  {
   "cell_type": "code",
   "execution_count": 2,
   "id": "3ac541ee",
   "metadata": {},
   "outputs": [],
   "source": [
    "import pandas as pd\n",
    "import numpy as np\n",
    "\n",
    "import itertools\n",
    "from itertools import product\n",
    "import json\n",
    "\n",
    "def lambda_handler (event,context):\n",
    "    \n",
    "    input_data = [1,2,3,4,5]\n",
    "    \n",
    "    output = [each_val * 10 for each_val in input_data]\n",
    "\n",
    "    output =sum(output)\n",
    "    \n",
    "    return {\n",
    "        'statusCode': 200,\n",
    "        'body': ' Lambda function Succesfully running',\n",
    "        'result' : output\n",
    "    }"
   ]
  },
  {
   "cell_type": "code",
   "execution_count": 4,
   "id": "2de2a5a2",
   "metadata": {},
   "outputs": [
    {
     "data": {
      "text/plain": [
       "{'statusCode': 200,\n",
       " 'body': ' Lambda function Succesfully running',\n",
       " 'result': 150}"
      ]
     },
     "execution_count": 4,
     "metadata": {},
     "output_type": "execute_result"
    }
   ],
   "source": [
    "lambda_handler (1,2)"
   ]
  },
  {
   "cell_type": "markdown",
   "id": "34f530d1",
   "metadata": {},
   "source": [
    "## Google the PYPI website download the below files"
   ]
  },
  {
   "cell_type": "markdown",
   "id": "9b38250f",
   "metadata": {},
   "source": [
    "## Required packages"
   ]
  },
  {
   "cell_type": "code",
   "execution_count": 2,
   "id": "41cafee6",
   "metadata": {},
   "outputs": [],
   "source": [
    "\n",
    "pandas =  \"pandas-2.0.1-cp310-cp310-manylinux_2_17_x86_64.manylinux2014_x86_64.whl\"\n",
    "numpy  =  \"numpy-1.24.3-cp310-cp310-manylinux_2_17_x86_64.manylinux2014_x86_64.whl\"\n",
    "pytz   =  \"pytz-2023.3-py2.py3-none-any.whl\""
   ]
  },
  {
   "cell_type": "code",
   "execution_count": null,
   "id": "e0e470f4",
   "metadata": {},
   "outputs": [],
   "source": []
  },
  {
   "cell_type": "markdown",
   "id": "75b7241d",
   "metadata": {},
   "source": [
    "##  Python script to unzip a file"
   ]
  },
  {
   "cell_type": "code",
   "execution_count": 5,
   "id": "4c275516",
   "metadata": {},
   "outputs": [],
   "source": [
    "import zipfile\n",
    "with zipfile.ZipFile(pytz) as f:\n",
    "    f.extractall('./python')"
   ]
  },
  {
   "cell_type": "code",
   "execution_count": null,
   "id": "c0f34677",
   "metadata": {},
   "outputs": [],
   "source": [
    "with zipfile.ZipFile(pytz) as f:\n",
    "    f.extractall('./pandas')"
   ]
  },
  {
   "cell_type": "code",
   "execution_count": null,
   "id": "2c1f366f",
   "metadata": {},
   "outputs": [],
   "source": [
    "with zipfile.ZipFile(numpy) as f:\n",
    "    f.extractall('./python')"
   ]
  },
  {
   "cell_type": "markdown",
   "id": "ec2238f7",
   "metadata": {},
   "source": [
    "## create the folder structure in the below format"
   ]
  },
  {
   "cell_type": "code",
   "execution_count": 9,
   "id": "7bc8ffd0",
   "metadata": {},
   "outputs": [
    {
     "data": {
      "image/png": "[encoded data removed]",
      "text/plain": [
       "<IPython.core.display.Image object>"
      ]
     },
     "execution_count": 9,
     "metadata": {},
     "output_type": "execute_result"
    }
   ],
   "source": [
    "from IPython.display import Image\n",
    "Image(\"folder structure.png\")"
   ]
  },
  {
   "cell_type": "code",
   "execution_count": null,
   "id": "e00e1b29",
   "metadata": {},
   "outputs": [],
   "source": [
    "## upload the python.zip file into lambda layer"
   ]
  },
  {
   "cell_type": "markdown",
   "id": "6c2e8327",
   "metadata": {},
   "source": [
    "## create a layer in lambda and Upload the zip file into layers"
   ]
  },
  {
   "cell_type": "code",
   "execution_count": null,
   "id": "3974dc14",
   "metadata": {},
   "outputs": [],
   "source": [
    "## creat layer\n",
    "## add a layer to a lambda function"
   ]
  },
  {
   "cell_type": "code",
   "execution_count": null,
   "id": "838df0e6",
   "metadata": {},
   "outputs": [],
   "source": [
    "# lets test the code again "
   ]
  },
  {
   "cell_type": "markdown",
   "id": "80453732",
   "metadata": {},
   "source": [
    "## Lambda function "
   ]
  },
  {
   "cell_type": "code",
   "execution_count": 7,
   "id": "a2d67594",
   "metadata": {},
   "outputs": [],
   "source": [
    "import pandas as pd\n",
    "import numpy as np\n",
    "\n",
    "import itertools\n",
    "from itertools import product\n",
    "import json\n",
    "\n",
    "def lambda_handler (event,context):\n",
    "    \n",
    "    input_data = [1,2,3,4,5]\n",
    "    \n",
    "    output = [each_val * 10 for each_val in input_data]\n",
    "\n",
    "    output =sum(output)\n",
    "    \n",
    "    return {\n",
    "        'statusCode': 200,\n",
    "        'body': ' Lambda function Succesfully running',\n",
    "        'result' : output\n",
    "    }"
   ]
  },
  {
   "cell_type": "code",
   "execution_count": 8,
   "id": "13885ac6",
   "metadata": {},
   "outputs": [
    {
     "data": {
      "text/plain": [
       "{'statusCode': 200,\n",
       " 'body': ' Lambda function Succesfully running',\n",
       " 'result': 150}"
      ]
     },
     "execution_count": 8,
     "metadata": {},
     "output_type": "execute_result"
    }
   ],
   "source": [
    "lambda_handler (1,2)"
   ]
  },
  {
   "cell_type": "code",
   "execution_count": null,
   "id": "e3adfbe8",
   "metadata": {},
   "outputs": [],
   "source": []
  }
 ],
 "metadata": {
  "kernelspec": {
   "display_name": "Python 3 (ipykernel)",
   "language": "python",
   "name": "python3"
  },
  "language_info": {
   "codemirror_mode": {
    "name": "ipython",
    "version": 3
   },
   "file_extension": ".py",
   "mimetype": "text/x-python",
   "name": "python",
   "nbconvert_exporter": "python",
   "pygments_lexer": "ipython3",
   "version": "3.9.12"
  }
 },
 "nbformat": 4,
 "nbformat_minor": 5
}
