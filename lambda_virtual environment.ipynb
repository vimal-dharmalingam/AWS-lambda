{
 "cells": [
  {
   "cell_type": "markdown",
   "id": "68ae5c87",
   "metadata": {},
   "source": [
    "## In wondows command prompt\n",
    "###  takeaway-----(lambda file and all packages in the same level of structure) then zip it up."
   ]
  },
  {
   "cell_type": "markdown",
   "id": "ac734d15",
   "metadata": {},
   "source": [
    "###  Step 1  create a folder  lambda_venv\n",
    "\n",
    "### Step 2 python3.11 -m virtualenv myvenv  --use specific python version or simply python3\n",
    "\n",
    "### Step 3 cd myvenv\n",
    "\n",
    "### Step 4 .\\Scripts\\activate\n",
    "\n",
    "### Step 5 create a lambda_function.py file (notepad  lambda_function.py) and copy the below code"
   ]
  },
  {
   "cell_type": "code",
   "execution_count": 10,
   "id": "3ac541ee",
   "metadata": {},
   "outputs": [],
   "source": [
    "import pandas as pd\n",
    "import numpy as np\n",
    "\n",
    "import itertools\n",
    "from itertools import product\n",
    "import json\n",
    "\n",
    "def lambda_handler (event,context):\n",
    "    \n",
    "    input_data = [1,2,3,4,5]\n",
    "    \n",
    "    output = [each_val * 10 for each_val in input_data]\n",
    "\n",
    "    output =sum(output)\n",
    "    \n",
    "    return {\n",
    "        'statusCode': 200,\n",
    "        'body': ' Lambda function Succesfully running including myenv',\n",
    "        'result' : output\n",
    "    }"
   ]
  },
  {
   "cell_type": "markdown",
   "id": "e4b6cde3",
   "metadata": {},
   "source": [
    "### Step 6 to get all the packages \n",
    "1. python3 --enter into python environment\n",
    "2. import sys \n",
    "3. sys.prefix - -- to get the python location and site packages"
   ]
  },
  {
   "cell_type": "code",
   "execution_count": null,
   "id": "19a5b370",
   "metadata": {},
   "outputs": [],
   "source": [
    "--- myvenv\\Lib\\site-packages  "
   ]
  },
  {
   "cell_type": "markdown",
   "id": "a8f3df55",
   "metadata": {},
   "source": [
    "## copy all the files from this folder into our root folder\n"
   ]
  },
  {
   "cell_type": "markdown",
   "id": "919973d4",
   "metadata": {},
   "source": [
    "### all the packages and lambda_function.py file in the same folder and same heirarchy"
   ]
  },
  {
   "cell_type": "code",
   "execution_count": 4,
   "id": "85214a31",
   "metadata": {},
   "outputs": [],
   "source": [
    "### name it as deploy.py  and zip it "
   ]
  },
  {
   "cell_type": "code",
   "execution_count": 5,
   "id": "e00e1b29",
   "metadata": {},
   "outputs": [],
   "source": [
    "## upload the deploy.zip file into lambda function"
   ]
  },
  {
   "cell_type": "code",
   "execution_count": 6,
   "id": "e3adfbe8",
   "metadata": {},
   "outputs": [],
   "source": [
    "## run the lambda function code"
   ]
  },
  {
   "cell_type": "code",
   "execution_count": 11,
   "id": "e6f5e461",
   "metadata": {},
   "outputs": [
    {
     "data": {
      "text/plain": [
       "{'statusCode': 200,\n",
       " 'body': ' Lambda function Succesfully running including myenv',\n",
       " 'result': 150}"
      ]
     },
     "execution_count": 11,
     "metadata": {},
     "output_type": "execute_result"
    }
   ],
   "source": [
    "lambda_handler (1,2)"
   ]
  },
  {
   "cell_type": "code",
   "execution_count": null,
   "id": "7eda7200",
   "metadata": {},
   "outputs": [],
   "source": []
  }
 ],
 "metadata": {
  "kernelspec": {
   "display_name": "Python 3 (ipykernel)",
   "language": "python",
   "name": "python3"
  },
  "language_info": {
   "codemirror_mode": {
    "name": "ipython",
    "version": 3
   },
   "file_extension": ".py",
   "mimetype": "text/x-python",
   "name": "python",
   "nbconvert_exporter": "python",
   "pygments_lexer": "ipython3",
   "version": "3.9.12"
  }
 },
 "nbformat": 4,
 "nbformat_minor": 5
}
